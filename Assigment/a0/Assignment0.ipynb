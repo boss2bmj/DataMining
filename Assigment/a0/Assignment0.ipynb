{
 "cells": [
  {
   "cell_type": "code",
   "execution_count": 1,
   "metadata": {
    "collapsed": false
   },
   "outputs": [
    {
     "name": "stdout",
     "output_type": "stream",
     "text": [
      "Populating the interactive namespace from numpy and matplotlib\n"
     ]
    }
   ],
   "source": [
    "%pylab inline"
   ]
  },
  {
   "cell_type": "code",
   "execution_count": 2,
   "metadata": {
    "collapsed": true
   },
   "outputs": [],
   "source": [
    "import apachelog, sys"
   ]
  },
  {
   "cell_type": "markdown",
   "metadata": {},
   "source": [
    "Set Format"
   ]
  },
  {
   "cell_type": "code",
   "execution_count": 3,
   "metadata": {
    "collapsed": true
   },
   "outputs": [],
   "source": [
    "fformat = r' %h %l %u %t \\\"%r\\\" %>s %b '"
   ]
  },
  {
   "cell_type": "markdown",
   "metadata": {},
   "source": [
    "Create Parcer:"
   ]
  },
  {
   "cell_type": "code",
   "execution_count": 4,
   "metadata": {
    "collapsed": true
   },
   "outputs": [],
   "source": [
    "p = apachelog.parser(fformat)"
   ]
  },
  {
   "cell_type": "markdown",
   "metadata": {},
   "source": [
    "Sample string:\n",
    "    '199.72.81.55 - - [01/Jul/1995:00:00:01 -0400] \"GET /history/apollo/ HTTP/1.0\" 200 6245'"
   ]
  },
  {
   "cell_type": "code",
   "execution_count": 5,
   "metadata": {
    "collapsed": true
   },
   "outputs": [],
   "source": [
    "sample_string = '199.72.81.55 - - [01/Jul/1995:00:00:01 -0400] \"GET /history/apollo/ HTTP/1.0\" 200 6245'"
   ]
  },
  {
   "cell_type": "code",
   "execution_count": 6,
   "metadata": {
    "collapsed": false
   },
   "outputs": [],
   "source": [
    "data = p.parse(sample_string)"
   ]
  },
  {
   "cell_type": "code",
   "execution_count": 7,
   "metadata": {
    "collapsed": false
   },
   "outputs": [
    {
     "data": {
      "text/plain": [
       "{'%>s': '200',\n",
       " '%b': '6245',\n",
       " '%h': '199.72.81.55',\n",
       " '%l': '-',\n",
       " '%r': 'GET /history/apollo/ HTTP/1.0',\n",
       " '%t': '[01/Jul/1995:00:00:01 -0400]',\n",
       " '%u': '-'}"
      ]
     },
     "execution_count": 7,
     "metadata": {},
     "output_type": "execute_result"
    }
   ],
   "source": [
    "data"
   ]
  },
  {
   "cell_type": "code",
   "execution_count": 8,
   "metadata": {
    "collapsed": true
   },
   "outputs": [],
   "source": [
    "log = open('NASA_access_log_Jul95').readlines()"
   ]
  },
  {
   "cell_type": "code",
   "execution_count": 9,
   "metadata": {
    "collapsed": false
   },
   "outputs": [
    {
     "name": "stderr",
     "output_type": "stream",
     "text": [
      "Unable to parse frank.mtsu.edu - - [03/Jul/1995:02:41:15 -0400] \"GET /images/\" HTTP/1.0\" 404 -\n",
      "Unable to parse frank.mtsu.edu - - [03/Jul/1995:02:47:17 -0400] \"GET /images/\" HTTP/1.0\" 404 -\n",
      "Unable to parse frank.mtsu.edu - - [03/Jul/1995:02:48:51 -0400] \"GET /images/\" HTTP/1.0\" 404 -\n",
      "Unable to parse frank.mtsu.edu - - [03/Jul/1995:02:50:27 -0400] \"GET /images\" HTTP/1.0\" 404 -\n",
      "Unable to parse 141.102.80.253 - - [07/Jul/1995:11:57:49 -0400] \"GET /history/apollo/apollo.html\" HTTP/1.0\" 404 -\n",
      "Unable to parse 141.102.80.130 - - [12/Jul/1995:13:42:32 -0400] \"GET /history/apollo/apollo.html\" HTTP/1.0\" 404 -\n",
      "Unable to parse 141.102.80.130 - - [13/Jul/1995:19:25:35 -0400] \"GET /history/apollo/apollo.html\" HTTP/1.0\" 404 -\n",
      "Unable to parse ris1_u27.rsoc.rockwell.com - - [14/Jul/1995:10:37:53 -0400] \"GET /history/apollo/apollo.html\" HTTP/1.0\" 404 -\n",
      "Unable to parse piweba3y.prodigy.com - - [14/Jul/1995:23:46:07 -0400] \"GET /history/appollo/appollo-13/html-\"more%20info\" HTTP/1.0\" 404 -\n",
      "Unable to parse arc.dental.upenn.edu - - [18/Jul/1995:11:53:44 -0400] \"GET /elv/elvpage.htm/\"MISSION\" HTTP/1.0\" 403 -\n",
      "Unable to parse 198.146.162.30 - - [19/Jul/1995:09:34:37 -0400] \"GET /history/apollo/apollo-13/apollo-13.html.\" HTTP/1.0\" 404 -\n",
      "Unable to parse 138.13.123.210 - - [21/Jul/1995:13:25:56 -0400] \"GET /elv/ATLAS_CENTAUR/atlcent.htm\" HTTP/1.0\" 404 -\n",
      "Unable to parse 138.13.123.210 - - [21/Jul/1995:13:26:51 -0400] \"GET /elv/ATLAS_CENTAUR/atlcent.htm\" HTTP/1.0\" 404 -\n",
      "Unable to parse knuth.mtsu.edu - - [22/Jul/1995:01:49:32 -0400] \"GET /images/\">index of /images HTTP/1.0\" 404 -\n",
      "Unable to parse alyssa.p"
     ]
    }
   ],
   "source": [
    "log_list = []\n",
    "for line in log:\n",
    "    try:\n",
    "          data = p.parse(line)\n",
    "    except:\n",
    "          sys.stderr.write(\"Unable to parse %s\" % line)\n",
    "    data['%t'] = data['%t'][1:12]+' '+data['%t'][13:21]+' '+data['%t'][22:27]\n",
    "      \n",
    "    log_list.append(data)"
   ]
  },
  {
   "cell_type": "code",
   "execution_count": 10,
   "metadata": {
    "collapsed": true
   },
   "outputs": [],
   "source": [
    "import pandas as pd\n",
    "import numpy as np\n",
    "from pandas import Series, DataFrame, Panel"
   ]
  },
  {
   "cell_type": "code",
   "execution_count": 11,
   "metadata": {
    "collapsed": true
   },
   "outputs": [],
   "source": [
    "df = DataFrame(log_list)"
   ]
  },
  {
   "cell_type": "code",
   "execution_count": 12,
   "metadata": {
    "collapsed": false
   },
   "outputs": [
    {
     "data": {
      "text/html": [
       "<div style=\"max-height:1000px;max-width:1500px;overflow:auto;\">\n",
       "<table border=\"1\" class=\"dataframe\">\n",
       "  <thead>\n",
       "    <tr style=\"text-align: right;\">\n",
       "      <th></th>\n",
       "      <th>%&gt;s</th>\n",
       "      <th>%b</th>\n",
       "      <th>%h</th>\n",
       "      <th>%l</th>\n",
       "      <th>%r</th>\n",
       "      <th>%t</th>\n",
       "      <th>%u</th>\n",
       "    </tr>\n",
       "  </thead>\n",
       "  <tbody>\n",
       "    <tr>\n",
       "      <th>0</th>\n",
       "      <td> 200</td>\n",
       "      <td> 6245</td>\n",
       "      <td>         199.72.81.55</td>\n",
       "      <td> -</td>\n",
       "      <td>    GET /history/apollo/ HTTP/1.0</td>\n",
       "      <td> 01/Jul/1995 00:00:01 -0400</td>\n",
       "      <td> -</td>\n",
       "    </tr>\n",
       "    <tr>\n",
       "      <th>1</th>\n",
       "      <td> 200</td>\n",
       "      <td> 3985</td>\n",
       "      <td> unicomp6.unicomp.net</td>\n",
       "      <td> -</td>\n",
       "      <td> GET /shuttle/countdown/ HTTP/1.0</td>\n",
       "      <td> 01/Jul/1995 00:00:06 -0400</td>\n",
       "      <td> -</td>\n",
       "    </tr>\n",
       "  </tbody>\n",
       "</table>\n",
       "</div>"
      ],
      "text/plain": [
       "   %>s    %b                    %h %l                                %r  \\\n",
       "0  200  6245          199.72.81.55  -     GET /history/apollo/ HTTP/1.0   \n",
       "1  200  3985  unicomp6.unicomp.net  -  GET /shuttle/countdown/ HTTP/1.0   \n",
       "\n",
       "                           %t %u  \n",
       "0  01/Jul/1995 00:00:01 -0400  -  \n",
       "1  01/Jul/1995 00:00:06 -0400  -  "
      ]
     },
     "execution_count": 12,
     "metadata": {},
     "output_type": "execute_result"
    }
   ],
   "source": [
    "df[0:2]"
   ]
  },
  {
   "cell_type": "code",
   "execution_count": 13,
   "metadata": {
    "collapsed": true
   },
   "outputs": [],
   "source": [
    "del df['%l']; del df['%u']"
   ]
  },
  {
   "cell_type": "code",
   "execution_count": 14,
   "metadata": {
    "collapsed": true
   },
   "outputs": [],
   "source": [
    "df = df.rename(columns={'%>s': 'Status', '%b':'b', \n",
    "                        '%h':'IP', '%r':'Request', '%t': 'Time'})"
   ]
  },
  {
   "cell_type": "code",
   "execution_count": 15,
   "metadata": {
    "collapsed": false
   },
   "outputs": [
    {
     "data": {
      "text/html": [
       "<div style=\"max-height:1000px;max-width:1500px;overflow:auto;\">\n",
       "<table border=\"1\" class=\"dataframe\">\n",
       "  <thead>\n",
       "    <tr style=\"text-align: right;\">\n",
       "      <th></th>\n",
       "      <th>Status</th>\n",
       "      <th>b</th>\n",
       "      <th>IP</th>\n",
       "      <th>Request</th>\n",
       "      <th>Time</th>\n",
       "    </tr>\n",
       "  </thead>\n",
       "  <tbody>\n",
       "    <tr>\n",
       "      <th>0</th>\n",
       "      <td> 200</td>\n",
       "      <td> 6245</td>\n",
       "      <td>         199.72.81.55</td>\n",
       "      <td>                     GET /history/apollo/ HTTP/1.0</td>\n",
       "      <td> 01/Jul/1995 00:00:01 -0400</td>\n",
       "    </tr>\n",
       "    <tr>\n",
       "      <th>1</th>\n",
       "      <td> 200</td>\n",
       "      <td> 3985</td>\n",
       "      <td> unicomp6.unicomp.net</td>\n",
       "      <td>                  GET /shuttle/countdown/ HTTP/1.0</td>\n",
       "      <td> 01/Jul/1995 00:00:06 -0400</td>\n",
       "    </tr>\n",
       "    <tr>\n",
       "      <th>2</th>\n",
       "      <td> 200</td>\n",
       "      <td> 4085</td>\n",
       "      <td>       199.120.110.21</td>\n",
       "      <td> GET /shuttle/missions/sts-73/mission-sts-73.ht...</td>\n",
       "      <td> 01/Jul/1995 00:00:09 -0400</td>\n",
       "    </tr>\n",
       "    <tr>\n",
       "      <th>3</th>\n",
       "      <td> 304</td>\n",
       "      <td>    0</td>\n",
       "      <td>   burger.letters.com</td>\n",
       "      <td>      GET /shuttle/countdown/liftoff.html HTTP/1.0</td>\n",
       "      <td> 01/Jul/1995 00:00:11 -0400</td>\n",
       "    </tr>\n",
       "    <tr>\n",
       "      <th>4</th>\n",
       "      <td> 200</td>\n",
       "      <td> 4179</td>\n",
       "      <td>       199.120.110.21</td>\n",
       "      <td> GET /shuttle/missions/sts-73/sts-73-patch-smal...</td>\n",
       "      <td> 01/Jul/1995 00:00:11 -0400</td>\n",
       "    </tr>\n",
       "  </tbody>\n",
       "</table>\n",
       "</div>"
      ],
      "text/plain": [
       "  Status     b                    IP  \\\n",
       "0    200  6245          199.72.81.55   \n",
       "1    200  3985  unicomp6.unicomp.net   \n",
       "2    200  4085        199.120.110.21   \n",
       "3    304     0    burger.letters.com   \n",
       "4    200  4179        199.120.110.21   \n",
       "\n",
       "                                             Request  \\\n",
       "0                      GET /history/apollo/ HTTP/1.0   \n",
       "1                   GET /shuttle/countdown/ HTTP/1.0   \n",
       "2  GET /shuttle/missions/sts-73/mission-sts-73.ht...   \n",
       "3       GET /shuttle/countdown/liftoff.html HTTP/1.0   \n",
       "4  GET /shuttle/missions/sts-73/sts-73-patch-smal...   \n",
       "\n",
       "                         Time  \n",
       "0  01/Jul/1995 00:00:01 -0400  \n",
       "1  01/Jul/1995 00:00:06 -0400  \n",
       "2  01/Jul/1995 00:00:09 -0400  \n",
       "3  01/Jul/1995 00:00:11 -0400  \n",
       "4  01/Jul/1995 00:00:11 -0400  "
      ]
     },
     "execution_count": 15,
     "metadata": {},
     "output_type": "execute_result"
    }
   ],
   "source": [
    "df.head()"
   ]
  },
  {
   "cell_type": "code",
   "execution_count": 16,
   "metadata": {
    "collapsed": false
   },
   "outputs": [],
   "source": [
    "times = df['Time']"
   ]
  },
  {
   "cell_type": "markdown",
   "metadata": {},
   "source": [
    "Convert Time column to datetime format and make an index out of it (pop will drop original Time column):"
   ]
  },
  {
   "cell_type": "code",
   "execution_count": 17,
   "metadata": {
    "collapsed": true
   },
   "outputs": [],
   "source": [
    "df.index = pd.to_datetime(df.pop('Time'))"
   ]
  },
  {
   "cell_type": "markdown",
   "metadata": {},
   "source": [
    "The Status variable is a string type, so we have to change it to int:"
   ]
  },
  {
   "cell_type": "code",
   "execution_count": 18,
   "metadata": {
    "collapsed": true
   },
   "outputs": [],
   "source": [
    "df['Status'] = df['Status'].astype('int')"
   ]
  },
  {
   "cell_type": "code",
   "execution_count": 19,
   "metadata": {
    "collapsed": true
   },
   "outputs": [],
   "source": [
    "def dash2nan(x):\n",
    "    if x == '-':\n",
    "        x = np.nan\n",
    "    else:\n",
    "        x = float(x)/1048576.\n",
    "    \n",
    "    return x"
   ]
  },
  {
   "cell_type": "code",
   "execution_count": 20,
   "metadata": {
    "collapsed": true
   },
   "outputs": [],
   "source": [
    "df['b'] = df['b'].apply(dash2nan)"
   ]
  },
  {
   "cell_type": "markdown",
   "metadata": {},
   "source": [
    "Traffic analysis"
   ]
  },
  {
   "cell_type": "code",
   "execution_count": 23,
   "metadata": {
    "collapsed": false
   },
   "outputs": [
    {
     "data": {
      "text/plain": [
       "<matplotlib.axes._subplots.AxesSubplot at 0x1e4f91890>"
      ]
     },
     "execution_count": 23,
     "metadata": {},
     "output_type": "execute_result"
    },
    {
     "data": {
      "image/png": "[encoded data removed]",
      "text/plain": [
       "<matplotlib.figure.Figure at 0x1e4f919d0>"
      ]
     },
     "metadata": {},
     "output_type": "display_data"
    }
   ],
   "source": [
    "df['b'].plot()"
   ]
  },
  {
   "cell_type": "code",
   "execution_count": 24,
   "metadata": {
    "collapsed": false
   },
   "outputs": [],
   "source": [
    "ips = df.groupby('IP').size()"
   ]
  },
  {
   "cell_type": "code",
   "execution_count": 25,
   "metadata": {
    "collapsed": false
   },
   "outputs": [
    {
     "data": {
      "text/plain": [
       "<matplotlib.axes._subplots.AxesSubplot at 0x1ecf6ea90>"
      ]
     },
     "execution_count": 25,
     "metadata": {},
     "output_type": "execute_result"
    },
    {
     "data": {
      "image/png": "[encoded data removed]",
      "text/plain": [
       "<matplotlib.figure.Figure at 0x1ecf80550>"
      ]
     },
     "metadata": {},
     "output_type": "display_data"
    }
   ],
   "source": [
    "ips.sort()\n",
    "ips[-10:].plot(kind='barh')"
   ]
  },
  {
   "cell_type": "code",
   "execution_count": 26,
   "metadata": {
    "collapsed": false
   },
   "outputs": [
    {
     "data": {
      "text/html": [
       "<div style=\"max-height:1000px;max-width:1500px;overflow:auto;\">\n",
       "<table border=\"1\" class=\"dataframe\">\n",
       "  <thead>\n",
       "    <tr style=\"text-align: right;\">\n",
       "      <th></th>\n",
       "      <th>Number of requests</th>\n",
       "    </tr>\n",
       "    <tr>\n",
       "      <th>IP</th>\n",
       "      <th></th>\n",
       "    </tr>\n",
       "  </thead>\n",
       "  <tbody>\n",
       "    <tr>\n",
       "      <th>piweba3y.prodigy.com</th>\n",
       "      <td> 17571</td>\n",
       "    </tr>\n",
       "    <tr>\n",
       "      <th>piweba4y.prodigy.com</th>\n",
       "      <td> 11591</td>\n",
       "    </tr>\n",
       "    <tr>\n",
       "      <th>piweba1y.prodigy.com</th>\n",
       "      <td>  9868</td>\n",
       "    </tr>\n",
       "    <tr>\n",
       "      <th>alyssa.prodigy.com</th>\n",
       "      <td>  7852</td>\n",
       "    </tr>\n",
       "    <tr>\n",
       "      <th>siltb10.orl.mmc.com</th>\n",
       "      <td>  7573</td>\n",
       "    </tr>\n",
       "    <tr>\n",
       "      <th>piweba2y.prodigy.com</th>\n",
       "      <td>  5922</td>\n",
       "    </tr>\n",
       "    <tr>\n",
       "      <th>edams.ksc.nasa.gov</th>\n",
       "      <td>  5434</td>\n",
       "    </tr>\n",
       "    <tr>\n",
       "      <th>163.206.89.4</th>\n",
       "      <td>  4906</td>\n",
       "    </tr>\n",
       "    <tr>\n",
       "      <th>news.ti.com</th>\n",
       "      <td>  4863</td>\n",
       "    </tr>\n",
       "    <tr>\n",
       "      <th>disarray.demon.co.uk</th>\n",
       "      <td>  4353</td>\n",
       "    </tr>\n",
       "  </tbody>\n",
       "</table>\n",
       "</div>"
      ],
      "text/plain": [
       "                      Number of requests\n",
       "IP                                      \n",
       "piweba3y.prodigy.com               17571\n",
       "piweba4y.prodigy.com               11591\n",
       "piweba1y.prodigy.com                9868\n",
       "alyssa.prodigy.com                  7852\n",
       "siltb10.orl.mmc.com                 7573\n",
       "piweba2y.prodigy.com                5922\n",
       "edams.ksc.nasa.gov                  5434\n",
       "163.206.89.4                        4906\n",
       "news.ti.com                         4863\n",
       "disarray.demon.co.uk                4353"
      ]
     },
     "execution_count": 26,
     "metadata": {},
     "output_type": "execute_result"
    }
   ],
   "source": [
    "ips_fd = DataFrame({'Number of requests':ips[-10:]})\n",
    "ips_fd = ips_fd.sort(columns='Number of requests',  ascending=False)\n",
    "ips_fd"
   ]
  },
  {
   "cell_type": "code",
   "execution_count": 27,
   "metadata": {
    "collapsed": true
   },
   "outputs": [],
   "source": [
    "ips_status = df.groupby(['IP', 'Status']).size()"
   ]
  },
  {
   "cell_type": "code",
   "execution_count": 28,
   "metadata": {
    "collapsed": false
   },
   "outputs": [
    {
     "data": {
      "text/plain": [
       "<matplotlib.axes._subplots.AxesSubplot at 0x1f8e66b90>"
      ]
     },
     "execution_count": 28,
     "metadata": {},
     "output_type": "execute_result"
    },
    {
     "data": {
      "image/png": "[encoded data removed]",
      "text/plain": [
       "<matplotlib.figure.Figure at 0x1e4a35e10>"
      ]
     },
     "metadata": {},
     "output_type": "display_data"
    }
   ],
   "source": [
    "ips_status.sort()\n",
    "ips_status[-20:].plot(kind='barh')"
   ]
  },
  {
   "cell_type": "markdown",
   "metadata": {},
   "source": [
    "#Request analysis"
   ]
  },
  {
   "cell_type": "code",
   "execution_count": 29,
   "metadata": {
    "collapsed": false
   },
   "outputs": [],
   "source": [
    "Rqs = df.groupby('Request').size()"
   ]
  },
  {
   "cell_type": "code",
   "execution_count": 30,
   "metadata": {
    "collapsed": false
   },
   "outputs": [
    {
     "data": {
      "text/plain": [
       "<matplotlib.axes._subplots.AxesSubplot at 0x1c93f0950>"
      ]
     },
     "execution_count": 30,
     "metadata": {},
     "output_type": "execute_result"
    },
    {
     "data": {
      "image/png": "[encoded data removed]",
      "text/plain": [
       "<matplotlib.figure.Figure at 0x1fe55b990>"
      ]
     },
     "metadata": {},
     "output_type": "display_data"
    }
   ],
   "source": [
    "Rqs.sort()\n",
    "Rqs[-10:].plot(kind='barh')"
   ]
  },
  {
   "cell_type": "code",
   "execution_count": 31,
   "metadata": {
    "collapsed": false
   },
   "outputs": [
    {
     "data": {
      "text/html": [
       "<div style=\"max-height:1000px;max-width:1500px;overflow:auto;\">\n",
       "<table border=\"1\" class=\"dataframe\">\n",
       "  <thead>\n",
       "    <tr style=\"text-align: right;\">\n",
       "      <th></th>\n",
       "      <th>Number of requests</th>\n",
       "    </tr>\n",
       "    <tr>\n",
       "      <th>Request</th>\n",
       "      <th></th>\n",
       "    </tr>\n",
       "  </thead>\n",
       "  <tbody>\n",
       "    <tr>\n",
       "      <th>GET /images/NASA-logosmall.gif HTTP/1.0</th>\n",
       "      <td> 110679</td>\n",
       "    </tr>\n",
       "    <tr>\n",
       "      <th>GET /images/KSC-logosmall.gif HTTP/1.0</th>\n",
       "      <td>  89356</td>\n",
       "    </tr>\n",
       "    <tr>\n",
       "      <th>GET /images/MOSAIC-logosmall.gif HTTP/1.0</th>\n",
       "      <td>  59967</td>\n",
       "    </tr>\n",
       "    <tr>\n",
       "      <th>GET /images/USA-logosmall.gif HTTP/1.0</th>\n",
       "      <td>  59515</td>\n",
       "    </tr>\n",
       "    <tr>\n",
       "      <th>GET /images/WORLD-logosmall.gif HTTP/1.0</th>\n",
       "      <td>  58997</td>\n",
       "    </tr>\n",
       "    <tr>\n",
       "      <th>GET /images/ksclogo-medium.gif HTTP/1.0</th>\n",
       "      <td>  58411</td>\n",
       "    </tr>\n",
       "    <tr>\n",
       "      <th>GET /images/launch-logo.gif HTTP/1.0</th>\n",
       "      <td>  40780</td>\n",
       "    </tr>\n",
       "    <tr>\n",
       "      <th>GET /shuttle/countdown/ HTTP/1.0</th>\n",
       "      <td>  40132</td>\n",
       "    </tr>\n",
       "    <tr>\n",
       "      <th>GET /ksc.html HTTP/1.0</th>\n",
       "      <td>  39830</td>\n",
       "    </tr>\n",
       "    <tr>\n",
       "      <th>GET /images/ksclogosmall.gif HTTP/1.0</th>\n",
       "      <td>  33528</td>\n",
       "    </tr>\n",
       "    <tr>\n",
       "      <th>GET / HTTP/1.0</th>\n",
       "      <td>  32511</td>\n",
       "    </tr>\n",
       "    <tr>\n",
       "      <th>GET /history/apollo/images/apollo-logo1.gif HTTP/1.0</th>\n",
       "      <td>  31011</td>\n",
       "    </tr>\n",
       "    <tr>\n",
       "      <th>GET /shuttle/missions/missions.html HTTP/1.0</th>\n",
       "      <td>  24738</td>\n",
       "    </tr>\n",
       "    <tr>\n",
       "      <th>GET /htbin/cdt_main.pl HTTP/1.0</th>\n",
       "      <td>  22570</td>\n",
       "    </tr>\n",
       "    <tr>\n",
       "      <th>GET /shuttle/countdown/count.gif HTTP/1.0</th>\n",
       "      <td>  22168</td>\n",
       "    </tr>\n",
       "    <tr>\n",
       "      <th>GET /shuttle/countdown/liftoff.html HTTP/1.0</th>\n",
       "      <td>  21940</td>\n",
       "    </tr>\n",
       "    <tr>\n",
       "      <th>GET /shuttle/countdown/count70.gif HTTP/1.0</th>\n",
       "      <td>  20858</td>\n",
       "    </tr>\n",
       "    <tr>\n",
       "      <th>GET /images/launchmedium.gif HTTP/1.0</th>\n",
       "      <td>  20752</td>\n",
       "    </tr>\n",
       "    <tr>\n",
       "      <th>GET /shuttle/missions/sts-71/sts-71-patch-small.gif HTTP/1.0</th>\n",
       "      <td>  19809</td>\n",
       "    </tr>\n",
       "    <tr>\n",
       "      <th>GET /shuttle/missions/sts-70/sts-70-patch-small.gif HTTP/1.0</th>\n",
       "      <td>  18107</td>\n",
       "    </tr>\n",
       "    <tr>\n",
       "      <th>GET /icons/menu.xbm HTTP/1.0</th>\n",
       "      <td>  17029</td>\n",
       "    </tr>\n",
       "    <tr>\n",
       "      <th>GET /icons/blank.xbm HTTP/1.0</th>\n",
       "      <td>  16770</td>\n",
       "    </tr>\n",
       "    <tr>\n",
       "      <th>GET /shuttle/missions/sts-71/mission-sts-71.html HTTP/1.0</th>\n",
       "      <td>  16618</td>\n",
       "    </tr>\n",
       "    <tr>\n",
       "      <th>GET /history/apollo/images/footprint-logo.gif HTTP/1.0</th>\n",
       "      <td>  16164</td>\n",
       "    </tr>\n",
       "    <tr>\n",
       "      <th>GET /shuttle/missions/sts-70/mission-sts-70.html HTTP/1.0</th>\n",
       "      <td>  16056</td>\n",
       "    </tr>\n",
       "    <tr>\n",
       "      <th>GET /shuttle/missions/sts-71/images/images.html HTTP/1.0</th>\n",
       "      <td>  15858</td>\n",
       "    </tr>\n",
       "    <tr>\n",
       "      <th>GET /history/apollo/apollo.html HTTP/1.0</th>\n",
       "      <td>  14437</td>\n",
       "    </tr>\n",
       "    <tr>\n",
       "      <th>GET /history/apollo/images/footprint-small.gif HTTP/1.0</th>\n",
       "      <td>  13909</td>\n",
       "    </tr>\n",
       "    <tr>\n",
       "      <th>GET /history/apollo/apollo-13/apollo-13.html HTTP/1.0</th>\n",
       "      <td>  13742</td>\n",
       "    </tr>\n",
       "    <tr>\n",
       "      <th>GET /history/apollo/apollo-13/apollo-13-patch-small.gif HTTP/1.0</th>\n",
       "      <td>  12999</td>\n",
       "    </tr>\n",
       "    <tr>\n",
       "      <th>...</th>\n",
       "      <td>...</td>\n",
       "    </tr>\n",
       "    <tr>\n",
       "      <th>GET /shuttle/technology/sts-newsref/sts_asm.html HTTP/1.0</th>\n",
       "      <td>   3203</td>\n",
       "    </tr>\n",
       "    <tr>\n",
       "      <th>GET /shuttle/resources/orbiters/atlantis-logo.gif HTTP/1.0</th>\n",
       "      <td>   3196</td>\n",
       "    </tr>\n",
       "    <tr>\n",
       "      <th>GET /shuttle/countdown/images/countclock.gif HTTP/1.0</th>\n",
       "      <td>   3181</td>\n",
       "    </tr>\n",
       "    <tr>\n",
       "      <th>GET /shuttle/missions/sts-70/movies/woodpecker.mpg HTTP/1.0</th>\n",
       "      <td>   3145</td>\n",
       "    </tr>\n",
       "    <tr>\n",
       "      <th>GET /shuttle/technology/images/srb_mod_compare_6-small.gif HTTP/1.0</th>\n",
       "      <td>   3136</td>\n",
       "    </tr>\n",
       "    <tr>\n",
       "      <th>GET /shuttle/missions/51-l/mission-51-l.html HTTP/1.0</th>\n",
       "      <td>   2956</td>\n",
       "    </tr>\n",
       "    <tr>\n",
       "      <th>GET /shuttle/technology/images/mission_profile_2-small.gif HTTP/1.0</th>\n",
       "      <td>   2944</td>\n",
       "    </tr>\n",
       "    <tr>\n",
       "      <th>GET /htbin/wais.pl HTTP/1.0</th>\n",
       "      <td>   2939</td>\n",
       "    </tr>\n",
       "    <tr>\n",
       "      <th>GET /icons/movie.xbm HTTP/1.0</th>\n",
       "      <td>   2921</td>\n",
       "    </tr>\n",
       "    <tr>\n",
       "      <th>GET /icons/unknown.xbm HTTP/1.0</th>\n",
       "      <td>   2921</td>\n",
       "    </tr>\n",
       "    <tr>\n",
       "      <th>GET /history/apollo/apollo-13/movies/ HTTP/1.0</th>\n",
       "      <td>   2805</td>\n",
       "    </tr>\n",
       "    <tr>\n",
       "      <th>GET /history/apollo/apollo-13/images/ HTTP/1.0</th>\n",
       "      <td>   2802</td>\n",
       "    </tr>\n",
       "    <tr>\n",
       "      <th>GET /shuttle/resources/orbiters/discovery-logo.gif HTTP/1.0</th>\n",
       "      <td>   2730</td>\n",
       "    </tr>\n",
       "    <tr>\n",
       "      <th>GET /shuttle/missions/51-l/51-l-patch-small.gif HTTP/1.0</th>\n",
       "      <td>   2683</td>\n",
       "    </tr>\n",
       "    <tr>\n",
       "      <th>GET /shuttle/missions/sts-71/movies/crew-arrival-t38.mpg HTTP/1.0</th>\n",
       "      <td>   2594</td>\n",
       "    </tr>\n",
       "    <tr>\n",
       "      <th>GET /history/apollo/apollo-1/apollo-1.html HTTP/1.0</th>\n",
       "      <td>   2570</td>\n",
       "    </tr>\n",
       "    <tr>\n",
       "      <th>GET /shuttle/resources/orbiters/challenger.html HTTP/1.0</th>\n",
       "      <td>   2527</td>\n",
       "    </tr>\n",
       "    <tr>\n",
       "      <th>GET /history/apollo/apollo-13/sounds/ HTTP/1.0</th>\n",
       "      <td>   2501</td>\n",
       "    </tr>\n",
       "    <tr>\n",
       "      <th>GET /history/apollo/apollo-spacecraft.txt HTTP/1.0</th>\n",
       "      <td>   2455</td>\n",
       "    </tr>\n",
       "    <tr>\n",
       "      <th>GET /history/apollo/apollo-1/apollo-1-patch-small.gif HTTP/1.0</th>\n",
       "      <td>   2386</td>\n",
       "    </tr>\n",
       "    <tr>\n",
       "      <th>GET /facilities/tour.html HTTP/1.0</th>\n",
       "      <td>   2372</td>\n",
       "    </tr>\n",
       "    <tr>\n",
       "      <th>GET /images/faq.gif HTTP/1.0</th>\n",
       "      <td>   2344</td>\n",
       "    </tr>\n",
       "    <tr>\n",
       "      <th>GET /shuttle/missions/sts-67/mission-sts-67.html HTTP/1.0</th>\n",
       "      <td>   2326</td>\n",
       "    </tr>\n",
       "    <tr>\n",
       "      <th>GET /shuttle/missions/sts-73/mission-sts-73.html HTTP/1.0</th>\n",
       "      <td>   2321</td>\n",
       "    </tr>\n",
       "    <tr>\n",
       "      <th>GET /history/mercury/mercury.html HTTP/1.0</th>\n",
       "      <td>   2317</td>\n",
       "    </tr>\n",
       "    <tr>\n",
       "      <th>GET /shuttle/resources/orbiters/endeavour.html HTTP/1.0</th>\n",
       "      <td>   2316</td>\n",
       "    </tr>\n",
       "    <tr>\n",
       "      <th>GET /shuttle/missions/sts-63/mission-sts-63.html HTTP/1.0</th>\n",
       "      <td>   2291</td>\n",
       "    </tr>\n",
       "    <tr>\n",
       "      <th>GET /shuttle/technology/sts-newsref/sts-lcc.html HTTP/1.0</th>\n",
       "      <td>   2288</td>\n",
       "    </tr>\n",
       "    <tr>\n",
       "      <th>GET /images/launch-small.gif HTTP/1.0</th>\n",
       "      <td>   2260</td>\n",
       "    </tr>\n",
       "    <tr>\n",
       "      <th>GET /icons/sound.xbm HTTP/1.0</th>\n",
       "      <td>   2250</td>\n",
       "    </tr>\n",
       "  </tbody>\n",
       "</table>\n",
       "<p>100 rows × 1 columns</p>\n",
       "</div>"
      ],
      "text/plain": [
       "                                                                     Number of requests\n",
       "Request                                                                                \n",
       "GET /images/NASA-logosmall.gif HTTP/1.0                                          110679\n",
       "GET /images/KSC-logosmall.gif HTTP/1.0                                            89356\n",
       "GET /images/MOSAIC-logosmall.gif HTTP/1.0                                         59967\n",
       "GET /images/USA-logosmall.gif HTTP/1.0                                            59515\n",
       "GET /images/WORLD-logosmall.gif HTTP/1.0                                          58997\n",
       "GET /images/ksclogo-medium.gif HTTP/1.0                                           58411\n",
       "GET /images/launch-logo.gif HTTP/1.0                                              40780\n",
       "GET /shuttle/countdown/ HTTP/1.0                                                  40132\n",
       "GET /ksc.html HTTP/1.0                                                            39830\n",
       "GET /images/ksclogosmall.gif HTTP/1.0                                             33528\n",
       "GET / HTTP/1.0                                                                    32511\n",
       "GET /history/apollo/images/apollo-logo1.gif HTTP/1.0                              31011\n",
       "GET /shuttle/missions/missions.html HTTP/1.0                                      24738\n",
       "GET /htbin/cdt_main.pl HTTP/1.0                                                   22570\n",
       "GET /shuttle/countdown/count.gif HTTP/1.0                                         22168\n",
       "GET /shuttle/countdown/liftoff.html HTTP/1.0                                      21940\n",
       "GET /shuttle/countdown/count70.gif HTTP/1.0                                       20858\n",
       "GET /images/launchmedium.gif HTTP/1.0                                             20752\n",
       "GET /shuttle/missions/sts-71/sts-71-patch-small.gif HTTP/1.0                      19809\n",
       "GET /shuttle/missions/sts-70/sts-70-patch-small.gif HTTP/1.0                      18107\n",
       "GET /icons/menu.xbm HTTP/1.0                                                      17029\n",
       "GET /icons/blank.xbm HTTP/1.0                                                     16770\n",
       "GET /shuttle/missions/sts-71/mission-sts-71.html HTTP/1.0                         16618\n",
       "GET /history/apollo/images/footprint-logo.gif HTTP/1.0                            16164\n",
       "GET /shuttle/missions/sts-70/mission-sts-70.html HTTP/1.0                         16056\n",
       "GET /shuttle/missions/sts-71/images/images.html HTTP/1.0                          15858\n",
       "GET /history/apollo/apollo.html HTTP/1.0                                          14437\n",
       "GET /history/apollo/images/footprint-small.gif HTTP/1.0                           13909\n",
       "GET /history/apollo/apollo-13/apollo-13.html HTTP/1.0                             13742\n",
       "GET /history/apollo/apollo-13/apollo-13-patch-small.gif HTTP/1.0                  12999\n",
       "...                                                                                 ...\n",
       "GET /shuttle/technology/sts-newsref/sts_asm.html HTTP/1.0                          3203\n",
       "GET /shuttle/resources/orbiters/atlantis-logo.gif HTTP/1.0                         3196\n",
       "GET /shuttle/countdown/images/countclock.gif HTTP/1.0                              3181\n",
       "GET /shuttle/missions/sts-70/movies/woodpecker.mpg HTTP/1.0                        3145\n",
       "GET /shuttle/technology/images/srb_mod_compare_6-small.gif HTTP/1.0                3136\n",
       "GET /shuttle/missions/51-l/mission-51-l.html HTTP/1.0                              2956\n",
       "GET /shuttle/technology/images/mission_profile_2-small.gif HTTP/1.0                2944\n",
       "GET /htbin/wais.pl HTTP/1.0                                                        2939\n",
       "GET /icons/movie.xbm HTTP/1.0                                                      2921\n",
       "GET /icons/unknown.xbm HTTP/1.0                                                    2921\n",
       "GET /history/apollo/apollo-13/movies/ HTTP/1.0                                     2805\n",
       "GET /history/apollo/apollo-13/images/ HTTP/1.0                                     2802\n",
       "GET /shuttle/resources/orbiters/discovery-logo.gif HTTP/1.0                        2730\n",
       "GET /shuttle/missions/51-l/51-l-patch-small.gif HTTP/1.0                           2683\n",
       "GET /shuttle/missions/sts-71/movies/crew-arrival-t38.mpg HTTP/1.0                  2594\n",
       "GET /history/apollo/apollo-1/apollo-1.html HTTP/1.0                                2570\n",
       "GET /shuttle/resources/orbiters/challenger.html HTTP/1.0                           2527\n",
       "GET /history/apollo/apollo-13/sounds/ HTTP/1.0                                     2501\n",
       "GET /history/apollo/apollo-spacecraft.txt HTTP/1.0                                 2455\n",
       "GET /history/apollo/apollo-1/apollo-1-patch-small.gif HTTP/1.0                     2386\n",
       "GET /facilities/tour.html HTTP/1.0                                                 2372\n",
       "GET /images/faq.gif HTTP/1.0                                                       2344\n",
       "GET /shuttle/missions/sts-67/mission-sts-67.html HTTP/1.0                          2326\n",
       "GET /shuttle/missions/sts-73/mission-sts-73.html HTTP/1.0                          2321\n",
       "GET /history/mercury/mercury.html HTTP/1.0                                         2317\n",
       "GET /shuttle/resources/orbiters/endeavour.html HTTP/1.0                            2316\n",
       "GET /shuttle/missions/sts-63/mission-sts-63.html HTTP/1.0                          2291\n",
       "GET /shuttle/technology/sts-newsref/sts-lcc.html HTTP/1.0                          2288\n",
       "GET /images/launch-small.gif HTTP/1.0                                              2260\n",
       "GET /icons/sound.xbm HTTP/1.0                                                      2250\n",
       "\n",
       "[100 rows x 1 columns]"
      ]
     },
     "execution_count": 31,
     "metadata": {},
     "output_type": "execute_result"
    }
   ],
   "source": [
    "Rqs_fd = DataFrame({'Number of requests':Rqs[-100:]})\n",
    "Rqs_fd = Rqs_fd.sort(columns='Number of requests',  ascending=False)\n",
    "Rqs_fd"
   ]
  },
  {
   "cell_type": "code",
   "execution_count": 32,
   "metadata": {
    "collapsed": false
   },
   "outputs": [
    {
     "data": {
      "text/plain": [
       "<matplotlib.axes._subplots.AxesSubplot at 0x1ca6b9410>"
      ]
     },
     "execution_count": 32,
     "metadata": {},
     "output_type": "execute_result"
    },
    {
     "data": {
      "image/png": "[encoded data removed]",
      "text/plain": [
       "<matplotlib.figure.Figure at 0x1ca81ebd0>"
      ]
     },
     "metadata": {},
     "output_type": "display_data"
    }
   ],
   "source": [
    "Rqs_fd.plot()"
   ]
  },
  {
   "cell_type": "code",
   "execution_count": null,
   "metadata": {
    "collapsed": true
   },
   "outputs": [],
   "source": []
  }
 ],
 "metadata": {
  "kernelspec": {
   "display_name": "Python 2",
   "language": "python",
   "name": "python2"
  },
  "language_info": {
   "codemirror_mode": {
    "name": "ipython",
    "version": 2
   },
   "file_extension": ".py",
   "mimetype": "text/x-python",
   "name": "python",
   "nbconvert_exporter": "python",
   "pygments_lexer": "ipython2",
   "version": "2.7.12"
  }
 },
 "nbformat": 4,
 "nbformat_minor": 0
}
